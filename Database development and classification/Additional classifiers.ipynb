{
 "cells": [
  {
   "cell_type": "markdown",
   "metadata": {},
   "source": [
    "# Additional classifiers \n",
    "\n",
    "This document trains and tests classification algorithms using the EmpatheticExchanges_v1 data\n",
    "\n",
    "The classification algorithms used in this notebook are:\n",
    "\n",
    "* XGBoost\n",
    "* Random Forest\n",
    "* KNN\n",
    "* Gaussian Naive-Bayes"
   ]
  },
  {
   "cell_type": "code",
   "execution_count": 25,
   "metadata": {},
   "outputs": [],
   "source": [
    "import pandas as pd\n",
    "from sklearn.ensemble import RandomForestClassifier\n",
    "from sklearn.naive_bayes import GaussianNB\n",
    "from sklearn.neighbors import KNeighborsClassifier\n",
    "from sklearn.metrics import accuracy_score, confusion_matrix, precision_score, recall_score, f1_score, ConfusionMatrixDisplay\n",
    "from sklearn.model_selection import RandomizedSearchCV, train_test_split\n",
    "from scipy.stats import randint\n",
    "import xgboost as xgb\n",
    "import CEM as cem\n",
    "import os\n",
    "from sklearn import preprocessing\n"
   ]
  },
  {
   "cell_type": "code",
   "execution_count": 18,
   "metadata": {},
   "outputs": [
    {
     "name": "stderr",
     "output_type": "stream",
     "text": [
      "<>:12: SyntaxWarning: invalid escape sequence '\\E'\n",
      "<>:19: SyntaxWarning: invalid escape sequence '\\E'\n",
      "<>:22: SyntaxWarning: invalid escape sequence '\\E'\n",
      "<>:29: SyntaxWarning: invalid escape sequence '\\E'\n",
      "<>:31: SyntaxWarning: invalid escape sequence '\\E'\n",
      "<>:12: SyntaxWarning: invalid escape sequence '\\E'\n",
      "<>:19: SyntaxWarning: invalid escape sequence '\\E'\n",
      "<>:22: SyntaxWarning: invalid escape sequence '\\E'\n",
      "<>:29: SyntaxWarning: invalid escape sequence '\\E'\n",
      "<>:31: SyntaxWarning: invalid escape sequence '\\E'\n",
      "C:\\Users\\edwin\\AppData\\Local\\Temp\\ipykernel_13404\\2246317867.py:12: SyntaxWarning: invalid escape sequence '\\E'\n",
      "  groups_dir = current_dir+'\\EmpatheticExchanges\\previous_training_predictions'\n",
      "C:\\Users\\edwin\\AppData\\Local\\Temp\\ipykernel_13404\\2246317867.py:19: SyntaxWarning: invalid escape sequence '\\E'\n",
      "  train_3 = pd.read_csv(groups_dir+\"\\EmpatheticExchanges_train_3.csv\")\n",
      "C:\\Users\\edwin\\AppData\\Local\\Temp\\ipykernel_13404\\2246317867.py:22: SyntaxWarning: invalid escape sequence '\\E'\n",
      "  test_3 = pd.read_csv(groups_dir+\"\\EmpatheticExchanges_test_3.csv\")\n",
      "C:\\Users\\edwin\\AppData\\Local\\Temp\\ipykernel_13404\\2246317867.py:29: SyntaxWarning: invalid escape sequence '\\E'\n",
      "  train_5 = pd.read_csv(groups_dir+\"\\EmpatheticExchanges_train_5.csv\")\n",
      "C:\\Users\\edwin\\AppData\\Local\\Temp\\ipykernel_13404\\2246317867.py:31: SyntaxWarning: invalid escape sequence '\\E'\n",
      "  test_5 = pd.read_csv(groups_dir+\"\\EmpatheticExchanges_test_5.csv\")\n"
     ]
    },
    {
     "name": "stdout",
     "output_type": "stream",
     "text": [
      "Index(['conv_id', 'context', 'prompt', 'speaker_utterance',\n",
      "       'listener_utterance', 'exchange_number', 's_negative', 's_neutral',\n",
      "       's_positive', 'l_negative', 'l_neutral', 'l_positive', 'predictions_ER',\n",
      "       'predictions_IP', 'predictions_EX', 'valence_speaker',\n",
      "       'arousal_speaker', 'dominance_speaker', 'valence_listener',\n",
      "       'arousal_listener', 'dominance_listener', 's_word_len', 'l_word_len',\n",
      "       'agreeing', 'acknowledging', 'encouraging', 'consoling', 'sympathizing',\n",
      "       'suggesting', 'questioning', 'wishing', 'neutral', 'speaker_emotion',\n",
      "       'listener_emotion', 'mimicry', 'empathy'],\n",
      "      dtype='object')\n"
     ]
    }
   ],
   "source": [
    "def get_metrics(df, predictions,actual):\n",
    "    modified_df = df.copy()\n",
    "    modified_df = modified_df.rename(columns={actual: \"empathy\"})\n",
    "    acc = accuracy_score(modified_df[\"empathy\"],modified_df[predictions])\n",
    "    cem_score = cem.get_cem(modified_df[predictions]-1,modified_df[[\"empathy\"]])\n",
    "    pre = precision_score(modified_df[\"empathy\"],modified_df[predictions], average='weighted')\n",
    "    f1 = f1_score(modified_df[\"empathy\"],modified_df[predictions], average='weighted')\n",
    "    rec = recall_score(modified_df[\"empathy\"],modified_df[predictions], average='weighted')\n",
    "    return [acc,cem_score,f1,pre,rec]\n",
    "\n",
    "current_dir = os.getcwd() #get directory of the repository\n",
    "groups_dir = current_dir+'\\orocessed_databases\\EmpatheticExchanges\\previous_training_predictions'\n",
    "\n",
    "columns2delete = ['conv_id','context','prompt','speaker_utterance','listener_utterance']\n",
    "\n",
    "columns2delete = ['conv_id','context','prompt','speaker_utterance','listener_utterance','exchange_number', 'speaker_emotion','listener_emotion', 'predictions_EX','predictions_IP']\n",
    "\n",
    "#3-level database\n",
    "train_3 = pd.read_csv(groups_dir+\"\\EmpatheticExchanges_train_3.csv\")\n",
    "print(train_3.columns)\n",
    "train_3 = train_3.drop(columns=columns2delete)\n",
    "test_3 = pd.read_csv(groups_dir+\"\\EmpatheticExchanges_test_3.csv\")\n",
    "test_3 = test_3.drop(columns=columns2delete)\n",
    "x_train_3 = train_3.drop(columns=['empathy'])\n",
    "y_train_3 = train_3.empathy\n",
    "x_test_3 = test_3.drop(columns=['empathy'])\n",
    "y_test_3 = test_3.empathy\n",
    "#5-level database\n",
    "train_5 = pd.read_csv(groups_dir+\"\\EmpatheticExchanges_train_5.csv\")\n",
    "train_5 = train_5.drop(columns=columns2delete)\n",
    "test_5 = pd.read_csv(groups_dir+\"\\EmpatheticExchanges_test_5.csv\")\n",
    "test_5 = test_5.drop(columns=columns2delete)\n",
    "x_train_5 = train_5.drop(columns=['empathy'])\n",
    "y_train_5 = train_5.empathy\n",
    "x_test_5 = test_5.drop(columns=['empathy'])\n",
    "y_test_5 = test_5.empathy\n",
    "#Setting up classification algorithms\n",
    "rfc = RandomForestClassifier(max_depth=10, random_state=42)\n",
    "xgc = xgb.XGBClassifier()\n",
    "knn = KNeighborsClassifier()\n",
    "gnb = GaussianNB()"
   ]
  },
  {
   "cell_type": "markdown",
   "metadata": {},
   "source": [
    "## 3-level classification"
   ]
  },
  {
   "cell_type": "markdown",
   "metadata": {},
   "source": [
    "### Random Forest"
   ]
  },
  {
   "cell_type": "code",
   "execution_count": 28,
   "metadata": {},
   "outputs": [
    {
     "name": "stderr",
     "output_type": "stream",
     "text": [
      "c:\\haru_human_understanding\\Groups\\empathy_classifier\\CEM.py:21: SettingWithCopyWarning: \n",
      "A value is trying to be set on a copy of a slice from a DataFrame.\n",
      "Try using .loc[row_indexer,col_indexer] = value instead\n",
      "\n",
      "See the caveats in the documentation: https://pandas.pydata.org/pandas-docs/stable/user_guide/indexing.html#returning-a-view-versus-a-copy\n",
      "  y['empathy'] = y[\"empathy\"].astype('int')\n"
     ]
    },
    {
     "data": {
      "text/plain": [
       "[0.5323232323232323,\n",
       " 0.5698656923328725,\n",
       " 0.40169768596515193,\n",
       " 0.5149741166689076,\n",
       " 0.5323232323232323]"
      ]
     },
     "execution_count": 28,
     "metadata": {},
     "output_type": "execute_result"
    }
   ],
   "source": [
    "#x_train_3['speaker_emotion'] = x_train_3['speaker_emotion'].astype('int')\n",
    "#x_train_3['listener_emotion'] = x_train_3['listener_emotion'].astype('int')\n",
    "le = preprocessing.LabelEncoder()\n",
    "x_train_3['speaker_emotion'] = le.fit_transform(x_train_3['speaker_emotion'])\n",
    "x_train_3['listener_emotion'] = le.fit_transform(x_train_3['listener_emotion'])\n",
    "x_test_3['speaker_emotion'] = le.fit_transform(x_test_3['speaker_emotion'])\n",
    "x_test_3['listener_emotion'] = le.fit_transform(x_test_3['listener_emotion'])\n",
    "\n",
    "\n",
    "rfc.fit(x_train_3,y_train_3)\n",
    "y_pred = rfc.predict(x_test_3)\n",
    "modified_df = test_3.copy()\n",
    "modified_df['predictions'] = y_pred\n",
    "rfc_mets = get_metrics(modified_df,'predictions','empathy')\n",
    "rfc_mets"
   ]
  },
  {
   "cell_type": "markdown",
   "metadata": {},
   "source": [
    "### XGBoost"
   ]
  },
  {
   "cell_type": "code",
   "execution_count": 29,
   "metadata": {},
   "outputs": [
    {
     "name": "stderr",
     "output_type": "stream",
     "text": [
      "c:\\haru_human_understanding\\Groups\\empathy_classifier\\CEM.py:21: SettingWithCopyWarning: \n",
      "A value is trying to be set on a copy of a slice from a DataFrame.\n",
      "Try using .loc[row_indexer,col_indexer] = value instead\n",
      "\n",
      "See the caveats in the documentation: https://pandas.pydata.org/pandas-docs/stable/user_guide/indexing.html#returning-a-view-versus-a-copy\n",
      "  y['empathy'] = y[\"empathy\"].astype('int')\n"
     ]
    },
    {
     "data": {
      "text/plain": [
       "[0.48787878787878786,\n",
       " 0.57770608760713,\n",
       " 0.43922319151499994,\n",
       " 0.43634115143502494,\n",
       " 0.48787878787878786]"
      ]
     },
     "execution_count": 29,
     "metadata": {},
     "output_type": "execute_result"
    }
   ],
   "source": [
    "xgc.fit(x_train_3,y_train_3-1)\n",
    "y_pred = xgc.predict(x_test_3)\n",
    "modified_df = test_3.copy()\n",
    "modified_df['predictions'] = y_pred + 1\n",
    "get_metrics(modified_df,'predictions','empathy')"
   ]
  },
  {
   "cell_type": "markdown",
   "metadata": {},
   "source": [
    "### KNN"
   ]
  },
  {
   "cell_type": "code",
   "execution_count": 30,
   "metadata": {},
   "outputs": [
    {
     "name": "stderr",
     "output_type": "stream",
     "text": [
      "c:\\haru_human_understanding\\Groups\\empathy_classifier\\CEM.py:21: SettingWithCopyWarning: \n",
      "A value is trying to be set on a copy of a slice from a DataFrame.\n",
      "Try using .loc[row_indexer,col_indexer] = value instead\n",
      "\n",
      "See the caveats in the documentation: https://pandas.pydata.org/pandas-docs/stable/user_guide/indexing.html#returning-a-view-versus-a-copy\n",
      "  y['empathy'] = y[\"empathy\"].astype('int')\n"
     ]
    },
    {
     "data": {
      "text/plain": [
       "[0.401010101010101,\n",
       " 0.5436932671084326,\n",
       " 0.39901138580790596,\n",
       " 0.3977270966967936,\n",
       " 0.401010101010101]"
      ]
     },
     "execution_count": 30,
     "metadata": {},
     "output_type": "execute_result"
    }
   ],
   "source": [
    "knn.fit(x_train_3,y_train_3-1)\n",
    "y_pred = knn.predict(x_test_3)\n",
    "modified_df = test_3.copy()\n",
    "modified_df['predictions'] = y_pred + 1\n",
    "get_metrics(modified_df,'predictions','empathy')"
   ]
  },
  {
   "cell_type": "markdown",
   "metadata": {},
   "source": [
    "### Gaussian NB"
   ]
  },
  {
   "cell_type": "code",
   "execution_count": 31,
   "metadata": {},
   "outputs": [
    {
     "name": "stderr",
     "output_type": "stream",
     "text": [
      "c:\\haru_human_understanding\\Groups\\empathy_classifier\\CEM.py:21: SettingWithCopyWarning: \n",
      "A value is trying to be set on a copy of a slice from a DataFrame.\n",
      "Try using .loc[row_indexer,col_indexer] = value instead\n",
      "\n",
      "See the caveats in the documentation: https://pandas.pydata.org/pandas-docs/stable/user_guide/indexing.html#returning-a-view-versus-a-copy\n",
      "  y['empathy'] = y[\"empathy\"].astype('int')\n"
     ]
    },
    {
     "data": {
      "text/plain": [
       "[0.40606060606060607,\n",
       " 0.5512127566562434,\n",
       " 0.3904077921892378,\n",
       " 0.4148641091107267,\n",
       " 0.40606060606060607]"
      ]
     },
     "execution_count": 31,
     "metadata": {},
     "output_type": "execute_result"
    }
   ],
   "source": [
    "gnb.fit(x_train_3,y_train_3)\n",
    "y_pred = gnb.predict(x_test_3)\n",
    "modified_df = test_3.copy()\n",
    "modified_df['predictions'] = y_pred \n",
    "get_metrics(modified_df,'predictions','empathy')"
   ]
  },
  {
   "cell_type": "markdown",
   "metadata": {},
   "source": [
    "## 5-level classification"
   ]
  },
  {
   "cell_type": "markdown",
   "metadata": {},
   "source": []
  },
  {
   "cell_type": "code",
   "execution_count": 57,
   "metadata": {},
   "outputs": [
    {
     "data": {
      "text/plain": [
       "0.4083984567966237"
      ]
     },
     "execution_count": 57,
     "metadata": {},
     "output_type": "execute_result"
    }
   ],
   "source": [
    "2*(0.4128515481441895*0.40404040404040403)/(0.4128515481441895+0.40404040404040403)"
   ]
  },
  {
   "cell_type": "code",
   "execution_count": 17,
   "metadata": {},
   "outputs": [
    {
     "data": {
      "image/png": "[encoded data removed]",
      "text/plain": [
       "<Figure size 640x480 with 1 Axes>"
      ]
     },
     "metadata": {},
     "output_type": "display_data"
    }
   ],
   "source": [
    "from sklearn.datasets import load_diabetes\n",
    "\n",
    "\n",
    "\n",
    "import matplotlib.pyplot as plt\n",
    "import numpy as np\n",
    "\n",
    "from sklearn.linear_model import RidgeCV\n",
    "\n",
    "ridge = RidgeCV(alphas=np.logspace(-9, 9, num=5)).fit(x_train_3, y_train_3)\n",
    "importance = np.abs(ridge.coef_)\n",
    "feature_names = np.array(x_train_3.columns)\n",
    "plt.bar(height=importance, x=feature_names)\n",
    "plt.title(\"Feature importances via coefficients\")\n",
    "plt.show()"
   ]
  },
  {
   "cell_type": "code",
   "execution_count": null,
   "metadata": {},
   "outputs": [],
   "source": []
  }
 ],
 "metadata": {
  "kernelspec": {
   "display_name": "Python 3",
   "language": "python",
   "name": "python3"
  },
  "language_info": {
   "codemirror_mode": {
    "name": "ipython",
    "version": 3
   },
   "file_extension": ".py",
   "mimetype": "text/x-python",
   "name": "python",
   "nbconvert_exporter": "python",
   "pygments_lexer": "ipython3",
   "version": "3.12.3"
  }
 },
 "nbformat": 4,
 "nbformat_minor": 2
}
