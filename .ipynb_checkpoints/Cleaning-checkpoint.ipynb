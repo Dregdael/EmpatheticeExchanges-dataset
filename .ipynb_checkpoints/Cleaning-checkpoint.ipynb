{
 "cells": [
  {
   "cell_type": "code",
   "execution_count": 1,
   "id": "b71a9a0c-2fdf-4a94-982a-2792155a330d",
   "metadata": {},
   "outputs": [],
   "source": [
    "import pandas as pd"
   ]
  },
  {
   "cell_type": "code",
   "execution_count": 23,
   "id": "05ac180d-d3d8-4937-b4ca-08827442f26a",
   "metadata": {},
   "outputs": [
    {
     "data": {
      "text/plain": [
       "Index(['conv_id', 'context', 'prompt', 'empathy', 'speaker_utterance',\n",
       "       'listener_utterance', 'exchange_number', 's_negative', 's_neutral',\n",
       "       's_positive', 'l_negative', 'l_neutral', 'l_positive', 'predictions_ER',\n",
       "       'predictions_IP', 'predictions_EX', 'valence_speaker',\n",
       "       'arousal_speaker', 'dominance_speaker', 'valence_listener',\n",
       "       'arousal_listener', 'dominance_listener', 's_word_len', 'l_word_len',\n",
       "       'agreeing', 'acknowledging', 'encouraging', 'consoling', 'sympathizing',\n",
       "       'suggesting', 'questioning', 'wishing', 'neutral', 'speaker_emotion',\n",
       "       'listener_emotion', 'mimicry'],\n",
       "      dtype='object')"
      ]
     },
     "execution_count": 23,
     "metadata": {},
     "output_type": "execute_result"
    }
   ],
   "source": [
    "database = pd.read_csv('./Dataset/EmpatheticExchanges_5ES.csv')\n",
    "database.columns"
   ]
  },
  {
   "cell_type": "code",
   "execution_count": null,
   "id": "e98ee4d2-cc7f-4ee9-83e2-3525da0e2636",
   "metadata": {},
   "outputs": [],
   "source": [
    "database['empathy_red'] = database.apply(lambda x: 1 if (x['empathy'] == 2 or x['empathy'] == 1)  else (2 if x['empathy'] == 3 else 3), axis = 1)\n",
    "database = database.drop(columns=['empathy'])\n",
    "database = database.rename(columns={\"empathy_red\": \"empathy\"})"
   ]
  }
 ],
 "metadata": {
  "kernelspec": {
   "display_name": "Python 3 (ipykernel)",
   "language": "python",
   "name": "python3"
  },
  "language_info": {
   "codemirror_mode": {
    "name": "ipython",
    "version": 3
   },
   "file_extension": ".py",
   "mimetype": "text/x-python",
   "name": "python",
   "nbconvert_exporter": "python",
   "pygments_lexer": "ipython3",
   "version": "3.12.7"
  }
 },
 "nbformat": 4,
 "nbformat_minor": 5
}
